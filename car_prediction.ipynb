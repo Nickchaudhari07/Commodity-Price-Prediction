{
 "cells": [
  {
   "cell_type": "code",
   "execution_count": 21,
   "metadata": {},
   "outputs": [],
   "source": [
    "import pandas as pd\n",
    "import numpy as np\n",
    "import matplotlib.pyplot as plt\n",
    "from sklearn.model_selection import train_test_split,cross_val_score,GridSearchCV\n",
    "from sklearn.linear_model import LinearRegression\n",
    "from sklearn.ensemble import RandomForestRegressor\n",
    "from sklearn.preprocessing import MinMaxScaler,StandardScaler,MaxAbsScaler, OneHotEncoder, LabelEncoder\n",
    "from sklearn.metrics import *"
   ]
  },
  {
   "cell_type": "code",
   "execution_count": 22,
   "metadata": {},
   "outputs": [
    {
     "data": {
      "text/plain": [
       "<bound method NDFrame.head of                                         name  year          Price  kms_driven  \\\n",
       "0       Hyundai Santro Xing XO eRLX Euro III  2007          80000  45,000 kms   \n",
       "1                    Mahindra Jeep CL550 MDI  2006       4,25,000      40 kms   \n",
       "2                 Maruti Suzuki Alto 800 Vxi  2018  Ask For Price  22,000 kms   \n",
       "3     Hyundai Grand i10 Magna 1.2 Kappa VTVT  2014       3,25,000  28,000 kms   \n",
       "4           Ford EcoSport Titanium 1.5L TDCi  2014       5,75,000  36,000 kms   \n",
       "...                                      ...   ...            ...         ...   \n",
       "8123                       Hyundai i20 Magna  2013         320000      110000   \n",
       "8124                   Hyundai Verna CRDi SX  2007         135000      119000   \n",
       "8125                  Maruti Swift Dzire ZDi  2009         382000      120000   \n",
       "8126                         Tata Indigo CR4  2013         290000       25000   \n",
       "8127                         Tata Indigo CR4  2013         290000       25000   \n",
       "\n",
       "     fuel_type transmission                 owner  \n",
       "0       Petrol       Manual           First Owner  \n",
       "1       Diesel       Manual           First Owner  \n",
       "2       Petrol       Manual           Third Owner  \n",
       "3       Petrol       Manual           First Owner  \n",
       "4       Diesel       Manual           First Owner  \n",
       "...        ...          ...                   ...  \n",
       "8123    Petrol       Manual           First Owner  \n",
       "8124    Diesel       Manual  Fourth & Above Owner  \n",
       "8125    Diesel       Manual           First Owner  \n",
       "8126    Diesel       Manual           First Owner  \n",
       "8127    Diesel       Manual           First Owner  \n",
       "\n",
       "[8128 rows x 7 columns]>"
      ]
     },
     "execution_count": 22,
     "metadata": {},
     "output_type": "execute_result"
    }
   ],
   "source": [
    "df= pd.read_csv('car.csv')\n",
    "df.head"
   ]
  },
  {
   "cell_type": "code",
   "execution_count": 23,
   "metadata": {},
   "outputs": [
    {
     "name": "stdout",
     "output_type": "stream",
     "text": [
      "<class 'pandas.core.frame.DataFrame'>\n",
      "RangeIndex: 8128 entries, 0 to 8127\n",
      "Data columns (total 7 columns):\n",
      " #   Column        Non-Null Count  Dtype \n",
      "---  ------        --------------  ----- \n",
      " 0   name          8128 non-null   object\n",
      " 1   year          8128 non-null   object\n",
      " 2   Price         8128 non-null   object\n",
      " 3   kms_driven    8076 non-null   object\n",
      " 4   fuel_type     8073 non-null   object\n",
      " 5   transmission  8128 non-null   object\n",
      " 6   owner         8128 non-null   object\n",
      "dtypes: object(7)\n",
      "memory usage: 444.6+ KB\n"
     ]
    }
   ],
   "source": [
    "df.info()"
   ]
  },
  {
   "cell_type": "markdown",
   "metadata": {},
   "source": [
    "Cleaning Data"
   ]
  },
  {
   "cell_type": "code",
   "execution_count": 24,
   "metadata": {},
   "outputs": [
    {
     "data": {
      "text/plain": [
       "array(['2007', '2006', '2018', '2014', '2015', '2012', '2013', '2016',\n",
       "       '2010', '2017', '2008', '2011', '2019', '2009', '2005', '2000',\n",
       "       '...', '150k', 'TOUR', '2003', 'r 15', '2004', 'Zest', '/-Rs',\n",
       "       'sale', '1995', 'ara)', '2002', 'SELL', '2001', 'tion', 'odel',\n",
       "       '2 bs', 'arry', 'Eon', 'o...', 'ture', 'emi', 'car', 'able', 'no.',\n",
       "       'd...', 'SALE', 'digo', 'sell', 'd Ex', 'n...', 'e...', 'D...',\n",
       "       ', Ac', 'go .', 'k...', 'o c4', 'zire', 'cent', 'Sumo', 'cab',\n",
       "       't xe', 'EV2', 'r...', 'zest', '2020', '1999', '1996', '1994',\n",
       "       '1998', '1997', '1991'], dtype=object)"
      ]
     },
     "execution_count": 24,
     "metadata": {},
     "output_type": "execute_result"
    }
   ],
   "source": [
    "df.year.unique()"
   ]
  },
  {
   "cell_type": "code",
   "execution_count": 25,
   "metadata": {},
   "outputs": [
    {
     "name": "stderr",
     "output_type": "stream",
     "text": [
      "C:\\Users\\Lenovo\\AppData\\Local\\Temp\\ipykernel_6372\\3486556330.py:2: SettingWithCopyWarning: \n",
      "A value is trying to be set on a copy of a slice from a DataFrame.\n",
      "Try using .loc[row_indexer,col_indexer] = value instead\n",
      "\n",
      "See the caveats in the documentation: https://pandas.pydata.org/pandas-docs/stable/user_guide/indexing.html#returning-a-view-versus-a-copy\n",
      "  df.year = df['year'].astype(int)\n"
     ]
    }
   ],
   "source": [
    "df=df[df.year.str.isnumeric()]\n",
    "df.year = df['year'].astype(int)"
   ]
  },
  {
   "cell_type": "code",
   "execution_count": 26,
   "metadata": {},
   "outputs": [],
   "source": [
    "df= df[df['Price'] != 'Ask For Price' ]"
   ]
  },
  {
   "cell_type": "code",
   "execution_count": 27,
   "metadata": {},
   "outputs": [
    {
     "data": {
      "text/plain": [
       "0        80000\n",
       "1       425000\n",
       "3       325000\n",
       "4       575000\n",
       "6       175000\n",
       "         ...  \n",
       "8123    320000\n",
       "8124    135000\n",
       "8125    382000\n",
       "8126    290000\n",
       "8127    290000\n",
       "Name: Price, Length: 8055, dtype: object"
      ]
     },
     "execution_count": 27,
     "metadata": {},
     "output_type": "execute_result"
    }
   ],
   "source": [
    "df.Price = df['Price'].str.replace(',','')\n",
    "df.Price"
   ]
  },
  {
   "cell_type": "code",
   "execution_count": 28,
   "metadata": {},
   "outputs": [],
   "source": [
    "df.Price = df.Price.astype(int)"
   ]
  },
  {
   "cell_type": "code",
   "execution_count": 29,
   "metadata": {},
   "outputs": [],
   "source": [
    "df['kms_driven']=df['kms_driven'].str.split(' ').str.get(0).str.replace(',','') "
   ]
  },
  {
   "cell_type": "code",
   "execution_count": 30,
   "metadata": {},
   "outputs": [],
   "source": [
    "df= df[df['kms_driven'].str.isnumeric()]"
   ]
  },
  {
   "cell_type": "code",
   "execution_count": 31,
   "metadata": {},
   "outputs": [],
   "source": [
    "df['kms_driven']= df['kms_driven'].astype(int)"
   ]
  },
  {
   "cell_type": "code",
   "execution_count": 32,
   "metadata": {},
   "outputs": [
    {
     "name": "stdout",
     "output_type": "stream",
     "text": [
      "<class 'pandas.core.frame.DataFrame'>\n",
      "Int64Index: 8053 entries, 0 to 8127\n",
      "Data columns (total 7 columns):\n",
      " #   Column        Non-Null Count  Dtype \n",
      "---  ------        --------------  ----- \n",
      " 0   name          8053 non-null   object\n",
      " 1   year          8053 non-null   int32 \n",
      " 2   Price         8053 non-null   int32 \n",
      " 3   kms_driven    8053 non-null   int32 \n",
      " 4   fuel_type     8052 non-null   object\n",
      " 5   transmission  8053 non-null   object\n",
      " 6   owner         8053 non-null   object\n",
      "dtypes: int32(3), object(4)\n",
      "memory usage: 408.9+ KB\n"
     ]
    }
   ],
   "source": [
    "df.info()"
   ]
  },
  {
   "cell_type": "code",
   "execution_count": 33,
   "metadata": {},
   "outputs": [],
   "source": [
    "df=df[~df.fuel_type.isna()]"
   ]
  },
  {
   "cell_type": "code",
   "execution_count": 34,
   "metadata": {},
   "outputs": [],
   "source": [
    "df.name=df.name.str.split(' ').str.slice(0,3).str.join(' ')"
   ]
  },
  {
   "cell_type": "code",
   "execution_count": 35,
   "metadata": {},
   "outputs": [
    {
     "data": {
      "text/html": [
       "<div>\n",
       "<style scoped>\n",
       "    .dataframe tbody tr th:only-of-type {\n",
       "        vertical-align: middle;\n",
       "    }\n",
       "\n",
       "    .dataframe tbody tr th {\n",
       "        vertical-align: top;\n",
       "    }\n",
       "\n",
       "    .dataframe thead th {\n",
       "        text-align: right;\n",
       "    }\n",
       "</style>\n",
       "<table border=\"1\" class=\"dataframe\">\n",
       "  <thead>\n",
       "    <tr style=\"text-align: right;\">\n",
       "      <th></th>\n",
       "      <th>name</th>\n",
       "      <th>year</th>\n",
       "      <th>Price</th>\n",
       "      <th>kms_driven</th>\n",
       "      <th>fuel_type</th>\n",
       "      <th>transmission</th>\n",
       "      <th>owner</th>\n",
       "    </tr>\n",
       "  </thead>\n",
       "  <tbody>\n",
       "    <tr>\n",
       "      <th>0</th>\n",
       "      <td>Hyundai Santro Xing</td>\n",
       "      <td>2007</td>\n",
       "      <td>80000</td>\n",
       "      <td>45000</td>\n",
       "      <td>Petrol</td>\n",
       "      <td>Manual</td>\n",
       "      <td>First Owner</td>\n",
       "    </tr>\n",
       "    <tr>\n",
       "      <th>1</th>\n",
       "      <td>Mahindra Jeep CL550</td>\n",
       "      <td>2006</td>\n",
       "      <td>425000</td>\n",
       "      <td>40</td>\n",
       "      <td>Diesel</td>\n",
       "      <td>Manual</td>\n",
       "      <td>First Owner</td>\n",
       "    </tr>\n",
       "    <tr>\n",
       "      <th>3</th>\n",
       "      <td>Hyundai Grand i10</td>\n",
       "      <td>2014</td>\n",
       "      <td>325000</td>\n",
       "      <td>28000</td>\n",
       "      <td>Petrol</td>\n",
       "      <td>Manual</td>\n",
       "      <td>First Owner</td>\n",
       "    </tr>\n",
       "    <tr>\n",
       "      <th>4</th>\n",
       "      <td>Ford EcoSport Titanium</td>\n",
       "      <td>2014</td>\n",
       "      <td>575000</td>\n",
       "      <td>36000</td>\n",
       "      <td>Diesel</td>\n",
       "      <td>Manual</td>\n",
       "      <td>First Owner</td>\n",
       "    </tr>\n",
       "    <tr>\n",
       "      <th>6</th>\n",
       "      <td>Ford Figo</td>\n",
       "      <td>2012</td>\n",
       "      <td>175000</td>\n",
       "      <td>41000</td>\n",
       "      <td>Diesel</td>\n",
       "      <td>Manual</td>\n",
       "      <td>First Owner</td>\n",
       "    </tr>\n",
       "  </tbody>\n",
       "</table>\n",
       "</div>"
      ],
      "text/plain": [
       "                     name  year   Price  kms_driven fuel_type transmission  \\\n",
       "0     Hyundai Santro Xing  2007   80000       45000    Petrol       Manual   \n",
       "1     Mahindra Jeep CL550  2006  425000          40    Diesel       Manual   \n",
       "3       Hyundai Grand i10  2014  325000       28000    Petrol       Manual   \n",
       "4  Ford EcoSport Titanium  2014  575000       36000    Diesel       Manual   \n",
       "6               Ford Figo  2012  175000       41000    Diesel       Manual   \n",
       "\n",
       "         owner  \n",
       "0  First Owner  \n",
       "1  First Owner  \n",
       "3  First Owner  \n",
       "4  First Owner  \n",
       "6  First Owner  "
      ]
     },
     "execution_count": 35,
     "metadata": {},
     "output_type": "execute_result"
    }
   ],
   "source": [
    "df.head()"
   ]
  },
  {
   "cell_type": "code",
   "execution_count": 36,
   "metadata": {},
   "outputs": [
    {
     "data": {
      "text/html": [
       "<div>\n",
       "<style scoped>\n",
       "    .dataframe tbody tr th:only-of-type {\n",
       "        vertical-align: middle;\n",
       "    }\n",
       "\n",
       "    .dataframe tbody tr th {\n",
       "        vertical-align: top;\n",
       "    }\n",
       "\n",
       "    .dataframe thead th {\n",
       "        text-align: right;\n",
       "    }\n",
       "</style>\n",
       "<table border=\"1\" class=\"dataframe\">\n",
       "  <thead>\n",
       "    <tr style=\"text-align: right;\">\n",
       "      <th></th>\n",
       "      <th>name</th>\n",
       "      <th>year</th>\n",
       "      <th>Price</th>\n",
       "      <th>kms_driven</th>\n",
       "      <th>fuel_type</th>\n",
       "      <th>transmission</th>\n",
       "      <th>owner</th>\n",
       "    </tr>\n",
       "  </thead>\n",
       "  <tbody>\n",
       "    <tr>\n",
       "      <th>0</th>\n",
       "      <td>Hyundai Santro Xing</td>\n",
       "      <td>2007</td>\n",
       "      <td>80000</td>\n",
       "      <td>45000</td>\n",
       "      <td>Petrol</td>\n",
       "      <td>Manual</td>\n",
       "      <td>First Owner</td>\n",
       "    </tr>\n",
       "    <tr>\n",
       "      <th>1</th>\n",
       "      <td>Mahindra Jeep CL550</td>\n",
       "      <td>2006</td>\n",
       "      <td>425000</td>\n",
       "      <td>40</td>\n",
       "      <td>Diesel</td>\n",
       "      <td>Manual</td>\n",
       "      <td>First Owner</td>\n",
       "    </tr>\n",
       "    <tr>\n",
       "      <th>2</th>\n",
       "      <td>Hyundai Grand i10</td>\n",
       "      <td>2014</td>\n",
       "      <td>325000</td>\n",
       "      <td>28000</td>\n",
       "      <td>Petrol</td>\n",
       "      <td>Manual</td>\n",
       "      <td>First Owner</td>\n",
       "    </tr>\n",
       "    <tr>\n",
       "      <th>3</th>\n",
       "      <td>Ford EcoSport Titanium</td>\n",
       "      <td>2014</td>\n",
       "      <td>575000</td>\n",
       "      <td>36000</td>\n",
       "      <td>Diesel</td>\n",
       "      <td>Manual</td>\n",
       "      <td>First Owner</td>\n",
       "    </tr>\n",
       "    <tr>\n",
       "      <th>4</th>\n",
       "      <td>Ford Figo</td>\n",
       "      <td>2012</td>\n",
       "      <td>175000</td>\n",
       "      <td>41000</td>\n",
       "      <td>Diesel</td>\n",
       "      <td>Manual</td>\n",
       "      <td>First Owner</td>\n",
       "    </tr>\n",
       "    <tr>\n",
       "      <th>...</th>\n",
       "      <td>...</td>\n",
       "      <td>...</td>\n",
       "      <td>...</td>\n",
       "      <td>...</td>\n",
       "      <td>...</td>\n",
       "      <td>...</td>\n",
       "      <td>...</td>\n",
       "    </tr>\n",
       "    <tr>\n",
       "      <th>8047</th>\n",
       "      <td>Hyundai i20 Magna</td>\n",
       "      <td>2013</td>\n",
       "      <td>320000</td>\n",
       "      <td>110000</td>\n",
       "      <td>Petrol</td>\n",
       "      <td>Manual</td>\n",
       "      <td>First Owner</td>\n",
       "    </tr>\n",
       "    <tr>\n",
       "      <th>8048</th>\n",
       "      <td>Hyundai Verna CRDi</td>\n",
       "      <td>2007</td>\n",
       "      <td>135000</td>\n",
       "      <td>119000</td>\n",
       "      <td>Diesel</td>\n",
       "      <td>Manual</td>\n",
       "      <td>Fourth &amp; Above Owner</td>\n",
       "    </tr>\n",
       "    <tr>\n",
       "      <th>8049</th>\n",
       "      <td>Maruti Swift Dzire</td>\n",
       "      <td>2009</td>\n",
       "      <td>382000</td>\n",
       "      <td>120000</td>\n",
       "      <td>Diesel</td>\n",
       "      <td>Manual</td>\n",
       "      <td>First Owner</td>\n",
       "    </tr>\n",
       "    <tr>\n",
       "      <th>8050</th>\n",
       "      <td>Tata Indigo CR4</td>\n",
       "      <td>2013</td>\n",
       "      <td>290000</td>\n",
       "      <td>25000</td>\n",
       "      <td>Diesel</td>\n",
       "      <td>Manual</td>\n",
       "      <td>First Owner</td>\n",
       "    </tr>\n",
       "    <tr>\n",
       "      <th>8051</th>\n",
       "      <td>Tata Indigo CR4</td>\n",
       "      <td>2013</td>\n",
       "      <td>290000</td>\n",
       "      <td>25000</td>\n",
       "      <td>Diesel</td>\n",
       "      <td>Manual</td>\n",
       "      <td>First Owner</td>\n",
       "    </tr>\n",
       "  </tbody>\n",
       "</table>\n",
       "<p>8052 rows × 7 columns</p>\n",
       "</div>"
      ],
      "text/plain": [
       "                        name  year   Price  kms_driven fuel_type transmission  \\\n",
       "0        Hyundai Santro Xing  2007   80000       45000    Petrol       Manual   \n",
       "1        Mahindra Jeep CL550  2006  425000          40    Diesel       Manual   \n",
       "2          Hyundai Grand i10  2014  325000       28000    Petrol       Manual   \n",
       "3     Ford EcoSport Titanium  2014  575000       36000    Diesel       Manual   \n",
       "4                  Ford Figo  2012  175000       41000    Diesel       Manual   \n",
       "...                      ...   ...     ...         ...       ...          ...   \n",
       "8047       Hyundai i20 Magna  2013  320000      110000    Petrol       Manual   \n",
       "8048      Hyundai Verna CRDi  2007  135000      119000    Diesel       Manual   \n",
       "8049      Maruti Swift Dzire  2009  382000      120000    Diesel       Manual   \n",
       "8050         Tata Indigo CR4  2013  290000       25000    Diesel       Manual   \n",
       "8051         Tata Indigo CR4  2013  290000       25000    Diesel       Manual   \n",
       "\n",
       "                     owner  \n",
       "0              First Owner  \n",
       "1              First Owner  \n",
       "2              First Owner  \n",
       "3              First Owner  \n",
       "4              First Owner  \n",
       "...                    ...  \n",
       "8047           First Owner  \n",
       "8048  Fourth & Above Owner  \n",
       "8049           First Owner  \n",
       "8050           First Owner  \n",
       "8051           First Owner  \n",
       "\n",
       "[8052 rows x 7 columns]"
      ]
     },
     "execution_count": 36,
     "metadata": {},
     "output_type": "execute_result"
    }
   ],
   "source": [
    "df.reset_index(drop = True)"
   ]
  },
  {
   "cell_type": "code",
   "execution_count": 37,
   "metadata": {},
   "outputs": [
    {
     "data": {
      "text/html": [
       "<div>\n",
       "<style scoped>\n",
       "    .dataframe tbody tr th:only-of-type {\n",
       "        vertical-align: middle;\n",
       "    }\n",
       "\n",
       "    .dataframe tbody tr th {\n",
       "        vertical-align: top;\n",
       "    }\n",
       "\n",
       "    .dataframe thead th {\n",
       "        text-align: right;\n",
       "    }\n",
       "</style>\n",
       "<table border=\"1\" class=\"dataframe\">\n",
       "  <thead>\n",
       "    <tr style=\"text-align: right;\">\n",
       "      <th></th>\n",
       "      <th>year</th>\n",
       "      <th>Price</th>\n",
       "      <th>kms_driven</th>\n",
       "    </tr>\n",
       "  </thead>\n",
       "  <tbody>\n",
       "    <tr>\n",
       "      <th>count</th>\n",
       "      <td>8052.000000</td>\n",
       "      <td>8.052000e+03</td>\n",
       "      <td>8.052000e+03</td>\n",
       "    </tr>\n",
       "    <tr>\n",
       "      <th>mean</th>\n",
       "      <td>2013.662196</td>\n",
       "      <td>6.141670e+05</td>\n",
       "      <td>6.774275e+04</td>\n",
       "    </tr>\n",
       "    <tr>\n",
       "      <th>std</th>\n",
       "      <td>4.071909</td>\n",
       "      <td>7.722271e+05</td>\n",
       "      <td>5.640158e+04</td>\n",
       "    </tr>\n",
       "    <tr>\n",
       "      <th>min</th>\n",
       "      <td>1991.000000</td>\n",
       "      <td>2.999900e+04</td>\n",
       "      <td>0.000000e+00</td>\n",
       "    </tr>\n",
       "    <tr>\n",
       "      <th>25%</th>\n",
       "      <td>2011.000000</td>\n",
       "      <td>2.500000e+05</td>\n",
       "      <td>3.301500e+04</td>\n",
       "    </tr>\n",
       "    <tr>\n",
       "      <th>50%</th>\n",
       "      <td>2014.000000</td>\n",
       "      <td>4.344995e+05</td>\n",
       "      <td>6.000000e+04</td>\n",
       "    </tr>\n",
       "    <tr>\n",
       "      <th>75%</th>\n",
       "      <td>2017.000000</td>\n",
       "      <td>6.550000e+05</td>\n",
       "      <td>9.000000e+04</td>\n",
       "    </tr>\n",
       "    <tr>\n",
       "      <th>max</th>\n",
       "      <td>2020.000000</td>\n",
       "      <td>8.500003e+06</td>\n",
       "      <td>2.360457e+06</td>\n",
       "    </tr>\n",
       "  </tbody>\n",
       "</table>\n",
       "</div>"
      ],
      "text/plain": [
       "              year         Price    kms_driven\n",
       "count  8052.000000  8.052000e+03  8.052000e+03\n",
       "mean   2013.662196  6.141670e+05  6.774275e+04\n",
       "std       4.071909  7.722271e+05  5.640158e+04\n",
       "min    1991.000000  2.999900e+04  0.000000e+00\n",
       "25%    2011.000000  2.500000e+05  3.301500e+04\n",
       "50%    2014.000000  4.344995e+05  6.000000e+04\n",
       "75%    2017.000000  6.550000e+05  9.000000e+04\n",
       "max    2020.000000  8.500003e+06  2.360457e+06"
      ]
     },
     "execution_count": 37,
     "metadata": {},
     "output_type": "execute_result"
    }
   ],
   "source": [
    "df.describe()"
   ]
  },
  {
   "cell_type": "code",
   "execution_count": 38,
   "metadata": {},
   "outputs": [],
   "source": [
    "df=df[df.Price <= 7200000]"
   ]
  },
  {
   "cell_type": "code",
   "execution_count": 39,
   "metadata": {},
   "outputs": [],
   "source": [
    "df.reset_index(drop= True, inplace= True)"
   ]
  },
  {
   "cell_type": "code",
   "execution_count": 40,
   "metadata": {},
   "outputs": [],
   "source": [
    "#df.to_csv('car_clean.csv')"
   ]
  },
  {
   "cell_type": "code",
   "execution_count": 41,
   "metadata": {},
   "outputs": [],
   "source": [
    "#lb= LabelEncoder()\n",
    "\t\t\n",
    "#df['fuel_type']= df['fuel_type'].map({'Petrol':1, 'Diesel':2, 'LPG':3, 'CNG':4})\n",
    "#df['transmission']= df['transmission'].map({'Manual':1, 'Automatic':2})\n",
    "#df['owner']= df['owner'].map({'First Owner':1, 'Second Owner':2, 'Third Owner':4,'Fourth & Above Owner':4, 'Test Drive Car':0})\n",
    "#df.head()"
   ]
  },
  {
   "cell_type": "markdown",
   "metadata": {},
   "source": [
    "Model"
   ]
  },
  {
   "cell_type": "code",
   "execution_count": 42,
   "metadata": {},
   "outputs": [],
   "source": [
    "x= df.drop('Price',axis=1)\n",
    "y= df.Price"
   ]
  },
  {
   "cell_type": "code",
   "execution_count": 43,
   "metadata": {},
   "outputs": [],
   "source": [
    "xtrain,xtest,ytrain,ytest = train_test_split(x,y,test_size= 0.2)"
   ]
  },
  {
   "cell_type": "code",
   "execution_count": 44,
   "metadata": {},
   "outputs": [
    {
     "data": {
      "text/plain": [
       "OneHotEncoder()"
      ]
     },
     "execution_count": 44,
     "metadata": {},
     "output_type": "execute_result"
    }
   ],
   "source": [
    "ohe = OneHotEncoder()\n",
    "ohe.fit(x[['name','fuel_type','transmission','owner']])"
   ]
  },
  {
   "cell_type": "code",
   "execution_count": 45,
   "metadata": {},
   "outputs": [
    {
     "data": {
      "text/plain": [
       "[array(['Ambassador CLASSIC 1500', 'Ambassador Classic 2000',\n",
       "        'Ambassador Grand 1500', 'Ambassador Grand 2000',\n",
       "        'Ashok Leyland Stile', 'Audi A3 35', 'Audi A3 40',\n",
       "        'Audi A3 Cabriolet', 'Audi A4 1.8', 'Audi A4 2.0', 'Audi A4 35',\n",
       "        'Audi A6 2.0', 'Audi A6 35', 'Audi A8', 'Audi Q3 2.0',\n",
       "        'Audi Q3 35', 'Audi Q5 2.0', 'Audi Q5 3.0', 'Audi Q5 35TDI',\n",
       "        'Audi Q5 45', 'Audi Q7', 'Audi Q7 3.0', 'BMW 3 Series',\n",
       "        'BMW 5 Series', 'BMW 6 Series', 'BMW 7 Series', 'BMW X1',\n",
       "        'BMW X1 sDrive', 'BMW X1 sDrive20d', 'BMW X1 sDrive20i',\n",
       "        'BMW X1 xDrive20d', 'BMW X3 xDrive20d', 'BMW X4 M', 'BMW X5 3.0d',\n",
       "        'BMW X6 xDrive30d', 'BMW X7 xDrive', 'Chevrolet Aveo 1.4',\n",
       "        'Chevrolet Aveo U-VA', 'Chevrolet Beat', 'Chevrolet Beat Diesel',\n",
       "        'Chevrolet Beat LS', 'Chevrolet Beat LT', 'Chevrolet Beat PS',\n",
       "        'Chevrolet Captiva 2.2', 'Chevrolet Captiva LT',\n",
       "        'Chevrolet Cruze LT', 'Chevrolet Cruze LTZ', 'Chevrolet Enjoy',\n",
       "        'Chevrolet Enjoy 1.3', 'Chevrolet Enjoy 1.4',\n",
       "        'Chevrolet Enjoy Petrol', 'Chevrolet Enjoy TCDi',\n",
       "        'Chevrolet Optra 1.6', 'Chevrolet Optra Magnum',\n",
       "        'Chevrolet Sail 1.2', 'Chevrolet Sail 1.3',\n",
       "        'Chevrolet Sail Hatchback', 'Chevrolet Sail LT',\n",
       "        'Chevrolet Sail UVA', 'Chevrolet Spark', 'Chevrolet Spark 1.0',\n",
       "        'Chevrolet Spark LS', 'Chevrolet Spark LT',\n",
       "        'Chevrolet Tavera B1-10', 'Chevrolet Tavera B2',\n",
       "        'Chevrolet Tavera B3', 'Chevrolet Tavera LS',\n",
       "        'Chevrolet Tavera Neo', 'Chevrolet Trailblazer LTZ',\n",
       "        'Daewoo Matiz SD', 'Daewoo Matiz SS', 'Datsun GO A', 'Datsun GO D',\n",
       "        'Datsun GO Plus', 'Datsun GO T', 'Datsun Go Plus',\n",
       "        'Datsun Redi GO', 'Datsun RediGO 1.0', 'Datsun RediGO A',\n",
       "        'Datsun RediGO AMT', 'Datsun RediGO S', 'Datsun RediGO SV',\n",
       "        'Datsun RediGO T', 'Fiat Avventura MULTIJET',\n",
       "        'Fiat Avventura Power', 'Fiat Grande Punto', 'Fiat Linea 1.3',\n",
       "        'Fiat Linea Classic', 'Fiat Linea Emotion', 'Fiat Palio 1.2',\n",
       "        'Fiat Petra ELX', 'Fiat Punto 1.2', 'Fiat Punto 1.3',\n",
       "        'Fiat Punto EVO', 'Fiat Punto Emotion', 'Fiat Punto Pure',\n",
       "        'Force Gurkha Hard', 'Force Motors Force', 'Force Motors One',\n",
       "        'Force One EX', 'Force One SX', 'Ford Aspire Titanium',\n",
       "        'Ford Aspire Trend', 'Ford Classic 1.4', 'Ford Classic 1.6',\n",
       "        'Ford EcoSport', 'Ford EcoSport 1.5', 'Ford EcoSport Ambiente',\n",
       "        'Ford EcoSport S', 'Ford EcoSport Titanium', 'Ford EcoSport Trend',\n",
       "        'Ford Ecosport 1.0', 'Ford Ecosport 1.5', 'Ford Ecosport Sports',\n",
       "        'Ford Endeavor 4x4', 'Ford Endeavour 2.2', 'Ford Endeavour 2.5L',\n",
       "        'Ford Endeavour 3.0L', 'Ford Endeavour 3.2', 'Ford Endeavour 4x2',\n",
       "        'Ford Fiesta', 'Ford Fiesta 1.4', 'Ford Fiesta 1.5',\n",
       "        'Ford Fiesta 1.6', 'Ford Fiesta Classic', 'Ford Fiesta Diesel',\n",
       "        'Ford Fiesta EXi', 'Ford Fiesta SXi', 'Ford Figo',\n",
       "        'Ford Figo 1.2P', 'Ford Figo 1.5', 'Ford Figo 1.5D',\n",
       "        'Ford Figo 1.5P', 'Ford Figo Aspire', 'Ford Figo Diesel',\n",
       "        'Ford Figo Duratorq', 'Ford Figo Petrol', 'Ford Figo Titanium',\n",
       "        'Ford Freestyle Titanium', 'Ford Freestyle Trend',\n",
       "        'Ford Fusion 1.4', 'Ford Fusion Plus', 'Ford Ikon 1.3',\n",
       "        'Ford Ikon 1.4', 'Ford Ikon 1.6', 'Ford Ikon 1.8',\n",
       "        'Hindustan Motors Ambassador', 'Honda Accord', 'Honda Accord 2.4',\n",
       "        'Honda Accord V6', 'Honda Accord VTi-L', 'Honda Amaze',\n",
       "        'Honda Amaze 1.2', 'Honda Amaze 1.5', 'Honda Amaze Anniversary',\n",
       "        'Honda Amaze E', 'Honda Amaze EX', 'Honda Amaze S',\n",
       "        'Honda Amaze SX', 'Honda Amaze V', 'Honda Amaze VX',\n",
       "        'Honda Amaze i-VTEC', 'Honda BR-V i-DTEC', 'Honda BR-V i-VTEC',\n",
       "        'Honda BRV i-DTEC', 'Honda BRV i-VTEC', 'Honda Brio',\n",
       "        'Honda Brio 1.2', 'Honda Brio E', 'Honda Brio Exclusive',\n",
       "        'Honda Brio S', 'Honda Brio V', 'Honda Brio VX', 'Honda CR-V 2.0L',\n",
       "        'Honda CR-V 2.4', 'Honda CR-V 2.4L', 'Honda City',\n",
       "        'Honda City 1.3', 'Honda City 1.5', 'Honda City 2017-2020',\n",
       "        'Honda City Corporate', 'Honda City E', 'Honda City S',\n",
       "        'Honda City SV', 'Honda City V', 'Honda City VX', 'Honda City ZX',\n",
       "        'Honda City ZXi', 'Honda City i', 'Honda City i-DTEC',\n",
       "        'Honda City i-VTEC', 'Honda Civic 1.8', 'Honda Civic Hybrid',\n",
       "        'Honda Civic ZX', 'Honda Jazz 1.2', 'Honda Jazz 1.5',\n",
       "        'Honda Jazz Basic', 'Honda Jazz S', 'Honda Jazz Select',\n",
       "        'Honda Jazz V', 'Honda Jazz VX', 'Honda Mobilio',\n",
       "        'Honda Mobilio RS', 'Honda Mobilio S', 'Honda Mobilio V',\n",
       "        'Honda WR V', 'Honda WR-V i-DTEC', 'Honda WR-V i-VTEC',\n",
       "        'Hyundai Accent', 'Hyundai Accent CRDi', 'Hyundai Accent DLS',\n",
       "        'Hyundai Accent Executive', 'Hyundai Accent GLE',\n",
       "        'Hyundai Accent GLS', 'Hyundai Accent GLX', 'Hyundai Accent Gvs',\n",
       "        'Hyundai Accent VIVA', 'Hyundai Creta', 'Hyundai Creta 1.4',\n",
       "        'Hyundai Creta 1.6', 'Hyundai EON 1.0', 'Hyundai EON D',\n",
       "        'Hyundai EON Era', 'Hyundai EON LPG', 'Hyundai EON Magna',\n",
       "        'Hyundai EON Sportz', 'Hyundai Elantra 1.8',\n",
       "        'Hyundai Elantra CRDi', 'Hyundai Elantra GLS',\n",
       "        'Hyundai Elantra GT', 'Hyundai Elantra S', 'Hyundai Elantra SX',\n",
       "        'Hyundai Elite i20', 'Hyundai Eon', 'Hyundai Eon D',\n",
       "        'Hyundai Eon Era', 'Hyundai Eon Magna', 'Hyundai Eon Sportz',\n",
       "        'Hyundai Fluidic Verna', 'Hyundai Getz', 'Hyundai Getz 1.1',\n",
       "        'Hyundai Getz 1.5', 'Hyundai Getz GLE', 'Hyundai Getz GLS',\n",
       "        'Hyundai Getz GLX', 'Hyundai Getz Prime', 'Hyundai Grand i10',\n",
       "        'Hyundai Santa Fe', 'Hyundai Santro', 'Hyundai Santro AE',\n",
       "        'Hyundai Santro AT', 'Hyundai Santro Asta', 'Hyundai Santro DX',\n",
       "        'Hyundai Santro Era', 'Hyundai Santro GLS', 'Hyundai Santro GS',\n",
       "        'Hyundai Santro LE', 'Hyundai Santro LP', 'Hyundai Santro LS',\n",
       "        'Hyundai Santro Magna', 'Hyundai Santro Sportz',\n",
       "        'Hyundai Santro Xing', 'Hyundai Sonata 2.0L', 'Hyundai Sonata 2.4',\n",
       "        'Hyundai Sonata 2.4L', 'Hyundai Sonata CRDi',\n",
       "        'Hyundai Sonata Transform', 'Hyundai Tucson 2.0',\n",
       "        'Hyundai Tucson CRDi', 'Hyundai Venue SX', 'Hyundai Verna',\n",
       "        'Hyundai Verna 1.4', 'Hyundai Verna 1.6', 'Hyundai Verna CRDi',\n",
       "        'Hyundai Verna Fluidic', 'Hyundai Verna S', 'Hyundai Verna SX',\n",
       "        'Hyundai Verna Transform', 'Hyundai Verna VGT',\n",
       "        'Hyundai Verna VTVT', 'Hyundai Verna Xi', 'Hyundai Xcent 1.1',\n",
       "        'Hyundai Xcent 1.2', 'Hyundai Xcent Base', 'Hyundai Xcent SX',\n",
       "        'Hyundai i10', 'Hyundai i10 Asta', 'Hyundai i10 Era',\n",
       "        'Hyundai i10 LPG', 'Hyundai i10 Magna', 'Hyundai i10 Sportz',\n",
       "        'Hyundai i20', 'Hyundai i20 1.2', 'Hyundai i20 1.4',\n",
       "        'Hyundai i20 2015-2017', 'Hyundai i20 Active', 'Hyundai i20 Asta',\n",
       "        'Hyundai i20 Diesel', 'Hyundai i20 Era', 'Hyundai i20 Magna',\n",
       "        'Hyundai i20 Petrol', 'Hyundai i20 Select', 'Hyundai i20 Sportz',\n",
       "        'Isuzu D-Max V-Cross', 'Isuzu MU 7', 'Isuzu MUX 2WD',\n",
       "        'Jaguar XE 2016-2019', 'Jaguar XE XE', 'Jaguar XF 2.0',\n",
       "        'Jaguar XF 2.2', 'Jaguar XF 3.0', 'Jaguar XF Diesel',\n",
       "        'Jeep Compass 1.4', 'Jeep Compass 2.0', 'Jeep Wrangler 2016-2019',\n",
       "        'Jeep Wrangler Unlimited', 'Kia Seltos HTX',\n",
       "        'Land Rover Discovery', 'Land Rover Freelander',\n",
       "        'Land Rover Range', 'Lexus ES 300h', 'MG Hector Sharp',\n",
       "        'MG Hector Smart', 'Mahindra Bolero 2011-2019',\n",
       "        'Mahindra Bolero B2', 'Mahindra Bolero B4', 'Mahindra Bolero DI',\n",
       "        'Mahindra Bolero GLX', 'Mahindra Bolero LX',\n",
       "        'Mahindra Bolero PLUS', 'Mahindra Bolero Pik-Up',\n",
       "        'Mahindra Bolero Power', 'Mahindra Bolero SLE',\n",
       "        'Mahindra Bolero SLX', 'Mahindra Bolero XL',\n",
       "        'Mahindra Ingenio CRDe', 'Mahindra Jeep CL', 'Mahindra Jeep CL550',\n",
       "        'Mahindra Jeep Classic', 'Mahindra Jeep MM', 'Mahindra KUV 100',\n",
       "        'Mahindra KUV100', 'Mahindra KUV100 K8', 'Mahindra Logan',\n",
       "        'Mahindra Logan Diesel', 'Mahindra Logan Petrol',\n",
       "        'Mahindra Marazzo M2', 'Mahindra Marazzo M6',\n",
       "        'Mahindra Marazzo M8', 'Mahindra Marshal DI',\n",
       "        'Mahindra NuvoSport N8', 'Mahindra Quanto C2',\n",
       "        'Mahindra Quanto C4', 'Mahindra Quanto C6', 'Mahindra Quanto C8',\n",
       "        'Mahindra Renault Logan', 'Mahindra Scorpio',\n",
       "        'Mahindra Scorpio 1.99', 'Mahindra Scorpio 2.6',\n",
       "        'Mahindra Scorpio 2006-2009', 'Mahindra Scorpio 2009-2014',\n",
       "        'Mahindra Scorpio EX', 'Mahindra Scorpio Gateway',\n",
       "        'Mahindra Scorpio Intelli', 'Mahindra Scorpio LX',\n",
       "        'Mahindra Scorpio M2DI', 'Mahindra Scorpio S10',\n",
       "        'Mahindra Scorpio S11', 'Mahindra Scorpio S2',\n",
       "        'Mahindra Scorpio S3', 'Mahindra Scorpio S4',\n",
       "        'Mahindra Scorpio S5', 'Mahindra Scorpio S7',\n",
       "        'Mahindra Scorpio SLE', 'Mahindra Scorpio SLX',\n",
       "        'Mahindra Scorpio VLS', 'Mahindra Scorpio VLX',\n",
       "        'Mahindra Scorpio Vlx', 'Mahindra Scorpio W',\n",
       "        'Mahindra Ssangyong Rexton', 'Mahindra Supro LX',\n",
       "        'Mahindra TUV 300', 'Mahindra TUV300 T4', 'Mahindra TUV300 T8',\n",
       "        'Mahindra Thar 4X4', 'Mahindra Thar CRDe', 'Mahindra Thar DI',\n",
       "        'Mahindra Verito 1.4', 'Mahindra Verito 1.5',\n",
       "        'Mahindra Verito 1.6', 'Mahindra Verito Vibe',\n",
       "        'Mahindra XUV300 W6', 'Mahindra XUV300 W8', 'Mahindra XUV500',\n",
       "        'Mahindra XUV500 AT', 'Mahindra XUV500 W10', 'Mahindra XUV500 W11',\n",
       "        'Mahindra XUV500 W4', 'Mahindra XUV500 W5', 'Mahindra XUV500 W6',\n",
       "        'Mahindra XUV500 W7', 'Mahindra XUV500 W8', 'Mahindra XUV500 W9',\n",
       "        'Mahindra Xylo D2', 'Mahindra Xylo D4', 'Mahindra Xylo E4',\n",
       "        'Mahindra Xylo E8', 'Mahindra Xylo H9', 'Maruti 800 AC',\n",
       "        'Maruti 800 DX', 'Maruti 800 EX', 'Maruti 800 Std',\n",
       "        'Maruti 800 Uniq', 'Maruti A-Star Lxi', 'Maruti A-Star Vxi',\n",
       "        'Maruti Alto 800', 'Maruti Alto AX', 'Maruti Alto Green',\n",
       "        'Maruti Alto K10', 'Maruti Alto LX', 'Maruti Alto LXI',\n",
       "        'Maruti Alto LXi', 'Maruti Alto STD', 'Maruti Alto Std',\n",
       "        'Maruti Baleno Alpha', 'Maruti Baleno Delta', 'Maruti Baleno LXI',\n",
       "        'Maruti Baleno RS', 'Maruti Baleno Sigma', 'Maruti Baleno Zeta',\n",
       "        'Maruti Celerio LDi', 'Maruti Celerio LXI', 'Maruti Celerio VDi',\n",
       "        'Maruti Celerio VXI', 'Maruti Celerio VXi', 'Maruti Celerio X',\n",
       "        'Maruti Celerio ZDi', 'Maruti Celerio ZXI', 'Maruti Ciaz 1.3',\n",
       "        'Maruti Ciaz 1.4', 'Maruti Ciaz AT', 'Maruti Ciaz Alpha',\n",
       "        'Maruti Ciaz Delta', 'Maruti Ciaz RS', 'Maruti Ciaz S',\n",
       "        'Maruti Ciaz VDI', 'Maruti Ciaz VDi', 'Maruti Ciaz VXi',\n",
       "        'Maruti Ciaz ZDi', 'Maruti Ciaz ZXi', 'Maruti Ciaz Zeta',\n",
       "        'Maruti Dzire LXI', 'Maruti Dzire VXI', 'Maruti Dzire ZXI',\n",
       "        'Maruti Eeco 5', 'Maruti Eeco 7', 'Maruti Eeco CNG',\n",
       "        'Maruti Eeco Smiles', 'Maruti Ertiga 1.5', 'Maruti Ertiga BSIV',\n",
       "        'Maruti Ertiga LDI', 'Maruti Ertiga LXI', 'Maruti Ertiga SHVS',\n",
       "        'Maruti Ertiga VDI', 'Maruti Ertiga VXI', 'Maruti Ertiga ZDI',\n",
       "        'Maruti Ertiga ZXI', 'Maruti Esteem AX', 'Maruti Esteem DI',\n",
       "        'Maruti Esteem LX', 'Maruti Esteem Lxi', 'Maruti Esteem Vxi',\n",
       "        'Maruti Estilo LXI', 'Maruti Gypsy King', 'Maruti Ignis 1.2',\n",
       "        'Maruti Ignis 1.3', 'Maruti Ignis Zeta', 'Maruti Omni 5',\n",
       "        'Maruti Omni 8', 'Maruti Omni BSIII', 'Maruti Omni CNG',\n",
       "        'Maruti Omni E', 'Maruti Omni LPG', 'Maruti Omni Limited',\n",
       "        'Maruti Omni MPI', 'Maruti Ritz Genus', 'Maruti Ritz LDi',\n",
       "        'Maruti Ritz LXI', 'Maruti Ritz LXi', 'Maruti Ritz VDi',\n",
       "        'Maruti Ritz VXI', 'Maruti Ritz VXi', 'Maruti Ritz ZDi',\n",
       "        'Maruti Ritz ZXi', 'Maruti S-Cross 2017-2020',\n",
       "        'Maruti S-Presso VXI', 'Maruti SX4 Celebration',\n",
       "        'Maruti SX4 Green', 'Maruti SX4 S', 'Maruti SX4 VDI',\n",
       "        'Maruti SX4 Vxi', 'Maruti SX4 ZDI', 'Maruti SX4 ZXI',\n",
       "        'Maruti SX4 Zxi', 'Maruti Suzuki 800', 'Maruti Suzuki A',\n",
       "        'Maruti Suzuki Alto', 'Maruti Suzuki Baleno',\n",
       "        'Maruti Suzuki Celerio', 'Maruti Suzuki Ciaz',\n",
       "        'Maruti Suzuki Dzire', 'Maruti Suzuki Eeco',\n",
       "        'Maruti Suzuki Ertiga', 'Maruti Suzuki Esteem',\n",
       "        'Maruti Suzuki Estilo', 'Maruti Suzuki Maruti',\n",
       "        'Maruti Suzuki Omni', 'Maruti Suzuki Ritz', 'Maruti Suzuki S',\n",
       "        'Maruti Suzuki SX4', 'Maruti Suzuki Stingray',\n",
       "        'Maruti Suzuki Swift', 'Maruti Suzuki Versa',\n",
       "        'Maruti Suzuki Vitara', 'Maruti Suzuki Wagon', 'Maruti Suzuki Zen',\n",
       "        'Maruti Swift 1.3', 'Maruti Swift AMT', 'Maruti Swift DDiS',\n",
       "        'Maruti Swift Dzire', 'Maruti Swift Glam', 'Maruti Swift LDI',\n",
       "        'Maruti Swift LXI', 'Maruti Swift LXi', 'Maruti Swift Ldi',\n",
       "        'Maruti Swift Lxi', 'Maruti Swift Star', 'Maruti Swift VDI',\n",
       "        'Maruti Swift VDi', 'Maruti Swift VVT', 'Maruti Swift VXI',\n",
       "        'Maruti Swift VXi', 'Maruti Swift Vdi', 'Maruti Swift ZDI',\n",
       "        'Maruti Swift ZDi', 'Maruti Swift ZXI', 'Maruti Vitara Brezza',\n",
       "        'Maruti Wagon R', 'Maruti XL6 Alpha', 'Maruti Zen Base',\n",
       "        'Maruti Zen Classic', 'Maruti Zen D', 'Maruti Zen Estilo',\n",
       "        'Maruti Zen LX', 'Maruti Zen LXI', 'Maruti Zen LXi',\n",
       "        'Maruti Zen Std', 'Maruti Zen VXI', 'Maruti Zen VXi',\n",
       "        'Mercedes Benz A', 'Mercedes Benz B', 'Mercedes Benz C',\n",
       "        'Mercedes Benz GLA', 'Mercedes-Benz B Class',\n",
       "        'Mercedes-Benz CLA 200', 'Mercedes-Benz E-Class E',\n",
       "        'Mercedes-Benz E-Class E250', 'Mercedes-Benz E-Class E270',\n",
       "        'Mercedes-Benz E-Class E350', 'Mercedes-Benz E-Class Exclusive',\n",
       "        'Mercedes-Benz GL-Class 220d', 'Mercedes-Benz GL-Class 350',\n",
       "        'Mercedes-Benz GLA Class', 'Mercedes-Benz GLC 220d',\n",
       "        'Mercedes-Benz M-Class ML', 'Mercedes-Benz New C-Class',\n",
       "        'Mercedes-Benz S-Class S', 'Mini Cooper S',\n",
       "        'Mitsubishi Lancer 1.8', 'Mitsubishi Lancer 2.0',\n",
       "        'Mitsubishi Pajero 2.8', 'Mitsubishi Pajero Sport',\n",
       "        'Nissan Kicks XL', 'Nissan Kicks XV', 'Nissan Micra Active',\n",
       "        'Nissan Micra Diesel', 'Nissan Micra Fashion', 'Nissan Micra XE',\n",
       "        'Nissan Micra XL', 'Nissan Micra XV', 'Nissan Sunny',\n",
       "        'Nissan Sunny Diesel', 'Nissan Sunny XL', 'Nissan Sunny XV',\n",
       "        'Nissan Teana XL', 'Nissan Terrano XE', 'Nissan Terrano XL',\n",
       "        'Nissan Terrano XV', 'Nissan X Trail', 'Opel Astra 1.6',\n",
       "        'Peugeot 309 GLD', 'Renault Captur 1.5', 'Renault Duster',\n",
       "        'Renault Duster 110', 'Renault Duster 110PS', 'Renault Duster 4x4',\n",
       "        'Renault Duster 85', 'Renault Duster 85PS',\n",
       "        'Renault Duster Adventure', 'Renault Duster Petrol',\n",
       "        'Renault Duster RXL', 'Renault Duster RXZ', 'Renault Duster RxL',\n",
       "        'Renault Fluence 1.5', 'Renault Fluence 2.0',\n",
       "        'Renault Fluence Diesel', 'Renault KWID 1.0', 'Renault KWID AMT',\n",
       "        'Renault KWID Climber', 'Renault KWID RXE', 'Renault KWID RXL',\n",
       "        'Renault KWID RXT', 'Renault Koleos 2.0', 'Renault Kwid',\n",
       "        'Renault Kwid 1.0', 'Renault Kwid RXT', 'Renault Lodgy 85',\n",
       "        'Renault Lodgy 85PS', 'Renault Lodgy Stepway',\n",
       "        'Renault Lodgy World', 'Renault Pulse RxL', 'Renault Pulse RxZ',\n",
       "        'Renault Scala Diesel', 'Renault Scala RxL', 'Renault Triber RXT',\n",
       "        'Renault Triber RXZ', 'Skoda Fabia', 'Skoda Fabia 1.2',\n",
       "        'Skoda Fabia 1.2L', 'Skoda Fabia 1.4', 'Skoda Fabia Classic',\n",
       "        'Skoda Fabia Scout', 'Skoda Kodiaq 2.0', 'Skoda Laura',\n",
       "        'Skoda Laura Ambiente', 'Skoda Octavia Ambiente',\n",
       "        'Skoda Octavia Ambition', 'Skoda Octavia Classic',\n",
       "        'Skoda Octavia Elegance', 'Skoda Octavia L', 'Skoda Octavia RS',\n",
       "        'Skoda Octavia Rider', 'Skoda Octavia Style', 'Skoda Rapid 1.5',\n",
       "        'Skoda Rapid 1.6', 'Skoda Rapid Elegance', 'Skoda Rapid Monte',\n",
       "        'Skoda Rapid Ultima', 'Skoda Superb 1.8', 'Skoda Superb Elegance',\n",
       "        'Skoda Superb LK', 'Skoda Yeti Ambition', 'Tata Aria Pleasure',\n",
       "        'Tata Aria Prestige', 'Tata Aria Pride', 'Tata Aria Pure',\n",
       "        'Tata Bolt Quadrajet', 'Tata Bolt Revotron', 'Tata Bolt XM',\n",
       "        'Tata Estate Std', 'Tata Harrier XZ', 'Tata Hexa XE',\n",
       "        'Tata Hexa XM', 'Tata Hexa XT', 'Tata Hexa XTA', 'Tata Indica',\n",
       "        'Tata Indica DLS', 'Tata Indica DLX', 'Tata Indica GLS',\n",
       "        'Tata Indica V2', 'Tata Indica Vista', 'Tata Indica eV2',\n",
       "        'Tata Indigo CR4', 'Tata Indigo CS', 'Tata Indigo GLS',\n",
       "        'Tata Indigo GLX', 'Tata Indigo Grand', 'Tata Indigo LS',\n",
       "        'Tata Indigo LX', 'Tata Indigo Marina', 'Tata Indigo TDI',\n",
       "        'Tata Indigo V', 'Tata Indigo VS', 'Tata Indigo eCS', 'Tata Manza',\n",
       "        'Tata Manza Aqua', 'Tata Manza Aura', 'Tata Manza Club',\n",
       "        'Tata Manza ELAN', 'Tata Nano', 'Tata Nano CX', 'Tata Nano Cx',\n",
       "        'Tata Nano GenX', 'Tata Nano LX', 'Tata Nano Lx',\n",
       "        'Tata Nano Twist', 'Tata Nano XE', 'Tata Nano XTA',\n",
       "        'Tata New Safari', 'Tata Nexon 1.2', 'Tata Nexon 1.5',\n",
       "        'Tata Safari DICOR', 'Tata Safari Storme', 'Tata Spacio Gold-10/6',\n",
       "        'Tata Sumo CX', 'Tata Sumo EX', 'Tata Sumo GX', 'Tata Sumo Gold',\n",
       "        'Tata Sumo Grande', 'Tata Sumo MKII', 'Tata Sumo SE',\n",
       "        'Tata Sumo Victa', 'Tata Tiago 1.05', 'Tata Tiago 1.2',\n",
       "        'Tata Tiago 2019-2020', 'Tata Tiago NRG', 'Tata Tiago Revotorq',\n",
       "        'Tata Tiago Revotron', 'Tata Tiago XT', 'Tata Tigor 1.05',\n",
       "        'Tata Tigor 1.2', 'Tata Tigor 2017-2020', 'Tata Tigor Revotron',\n",
       "        'Tata Venture EX', 'Tata Venture LX', 'Tata Vista Quadrajet',\n",
       "        'Tata Winger Deluxe', 'Tata Xenon XT', 'Tata Zest Quadrajet',\n",
       "        'Tata Zest Revotron', 'Tata Zest XE', 'Tata Zest XM',\n",
       "        'Toyota Camry 2.5', 'Toyota Camry V4', 'Toyota Corolla',\n",
       "        'Toyota Corolla AE', 'Toyota Corolla Altis', 'Toyota Corolla DX',\n",
       "        'Toyota Corolla H2', 'Toyota Etios', 'Toyota Etios 1.4',\n",
       "        'Toyota Etios 1.5', 'Toyota Etios Cross', 'Toyota Etios Diesel',\n",
       "        'Toyota Etios G', 'Toyota Etios GD', 'Toyota Etios Liva',\n",
       "        'Toyota Etios V', 'Toyota Etios VD', 'Toyota Etios VX',\n",
       "        'Toyota Etios VXD', 'Toyota Fortuner', 'Toyota Fortuner 2.5',\n",
       "        'Toyota Fortuner 2.8', 'Toyota Fortuner 3.0',\n",
       "        'Toyota Fortuner 4x2', 'Toyota Fortuner 4x4', 'Toyota Glanza G',\n",
       "        'Toyota Glanza V', 'Toyota Innova 2.0', 'Toyota Innova 2.5',\n",
       "        'Toyota Innova Crysta', 'Toyota Land Cruiser',\n",
       "        'Toyota Platinum Etios', 'Toyota Premio Base', 'Toyota Qualis',\n",
       "        'Toyota Qualis FS', 'Toyota Qualis Fleet', 'Toyota Qualis GS',\n",
       "        'Toyota Yaris V', 'Volkswagen Ameo 1.0', 'Volkswagen Ameo 1.2',\n",
       "        'Volkswagen Ameo 1.5', 'Volkswagen CrossPolo 1.5',\n",
       "        'Volkswagen Jetta 1.6', 'Volkswagen Jetta 2.0',\n",
       "        'Volkswagen Jetta 2.0L', 'Volkswagen Jetta Comfortline',\n",
       "        'Volkswagen Jetta Highline', 'Volkswagen Multivan TDI',\n",
       "        'Volkswagen Passat 1.8', 'Volkswagen Passat 2.0',\n",
       "        'Volkswagen Passat Diesel', 'Volkswagen Passat Highline',\n",
       "        'Volkswagen Polo', 'Volkswagen Polo 1.0', 'Volkswagen Polo 1.2',\n",
       "        'Volkswagen Polo 1.5', 'Volkswagen Polo 2015-2019',\n",
       "        'Volkswagen Polo Comfortline', 'Volkswagen Polo Diesel',\n",
       "        'Volkswagen Polo GT', 'Volkswagen Polo Highline',\n",
       "        'Volkswagen Polo Highline1.2L', 'Volkswagen Polo Petrol',\n",
       "        'Volkswagen Polo Select', 'Volkswagen Polo Trendline',\n",
       "        'Volkswagen Vento 1.5', 'Volkswagen Vento 1.6',\n",
       "        'Volkswagen Vento Comfortline', 'Volkswagen Vento Diesel',\n",
       "        'Volkswagen Vento Highline', 'Volkswagen Vento IPL',\n",
       "        'Volkswagen Vento Konekt', 'Volkswagen Vento Petrol',\n",
       "        'Volvo S60 D4', 'Volvo S80 Summum', 'Volvo S90 D4',\n",
       "        'Volvo V40 Cross', 'Volvo V40 D3', 'Volvo XC40 D4',\n",
       "        'Volvo XC60 Inscription'], dtype=object),\n",
       " array(['CNG', 'Diesel', 'LPG', 'Petrol'], dtype=object),\n",
       " array(['Automatic', 'Manual'], dtype=object),\n",
       " array(['First Owner', 'Fourth & Above Owner', 'Second Owner',\n",
       "        'Test Drive Car', 'Third Owner'], dtype=object)]"
      ]
     },
     "execution_count": 45,
     "metadata": {},
     "output_type": "execute_result"
    }
   ],
   "source": [
    "ohe.categories_"
   ]
  },
  {
   "cell_type": "markdown",
   "metadata": {},
   "source": [
    "#Creating Pipeline"
   ]
  },
  {
   "cell_type": "code",
   "execution_count": 46,
   "metadata": {},
   "outputs": [],
   "source": [
    "from sklearn.compose import make_column_transformer\n",
    "from sklearn.pipeline import make_pipeline"
   ]
  },
  {
   "cell_type": "code",
   "execution_count": 47,
   "metadata": {},
   "outputs": [],
   "source": [
    "column_trans= make_column_transformer((OneHotEncoder(categories= ohe.categories_),['name','fuel_type','transmission','owner']), remainder= 'passthrough')"
   ]
  },
  {
   "cell_type": "code",
   "execution_count": 48,
   "metadata": {},
   "outputs": [],
   "source": [
    "lr= LinearRegression()\n",
    "scale= MaxAbsScaler()"
   ]
  },
  {
   "cell_type": "code",
   "execution_count": 49,
   "metadata": {},
   "outputs": [],
   "source": [
    "pipeline = make_pipeline(column_trans,scale,lr)"
   ]
  },
  {
   "cell_type": "code",
   "execution_count": 50,
   "metadata": {},
   "outputs": [
    {
     "data": {
      "text/plain": [
       "Pipeline(steps=[('columntransformer',\n",
       "                 ColumnTransformer(remainder='passthrough',\n",
       "                                   transformers=[('onehotencoder',\n",
       "                                                  OneHotEncoder(categories=[array(['Ambassador CLASSIC 1500', 'Ambassador Classic 2000',\n",
       "       'Ambassador Grand 1500', 'Ambassador Grand 2000',\n",
       "       'Ashok Leyland Stile', 'Audi A3 35', 'Audi A3 40',\n",
       "       'Audi A3 Cabriolet', 'Audi A4 1.8', 'Audi A4 2.0', 'Audi A4 35',\n",
       "       'Audi A6 2.0', 'Audi A6 3...\n",
       "       'Volvo XC60 Inscription'], dtype=object),\n",
       "                                                                            array(['CNG', 'Diesel', 'LPG', 'Petrol'], dtype=object),\n",
       "                                                                            array(['Automatic', 'Manual'], dtype=object),\n",
       "                                                                            array(['First Owner', 'Fourth & Above Owner', 'Second Owner',\n",
       "       'Test Drive Car', 'Third Owner'], dtype=object)]),\n",
       "                                                  ['name', 'fuel_type',\n",
       "                                                   'transmission',\n",
       "                                                   'owner'])])),\n",
       "                ('maxabsscaler', MaxAbsScaler()),\n",
       "                ('linearregression', LinearRegression())])"
      ]
     },
     "execution_count": 50,
     "metadata": {},
     "output_type": "execute_result"
    }
   ],
   "source": [
    "pipeline.fit(xtrain,ytrain)"
   ]
  },
  {
   "cell_type": "code",
   "execution_count": 51,
   "metadata": {},
   "outputs": [
    {
     "data": {
      "text/plain": [
       "0.9724602470979565"
      ]
     },
     "execution_count": 51,
     "metadata": {},
     "output_type": "execute_result"
    }
   ],
   "source": [
    "ytrainpred = pipeline.predict(xtrain)\n",
    "r2_score(ytrain,ytrainpred)"
   ]
  },
  {
   "cell_type": "code",
   "execution_count": 52,
   "metadata": {},
   "outputs": [],
   "source": [
    "ypred = pipeline.predict(xtest)"
   ]
  },
  {
   "cell_type": "code",
   "execution_count": 53,
   "metadata": {},
   "outputs": [
    {
     "data": {
      "text/plain": [
       "0.9055101691980644"
      ]
     },
     "execution_count": 53,
     "metadata": {},
     "output_type": "execute_result"
    }
   ],
   "source": [
    "r2_score(ytest,ypred)"
   ]
  },
  {
   "cell_type": "code",
   "execution_count": 54,
   "metadata": {},
   "outputs": [],
   "source": [
    "score=[]\n",
    "for i in range(1000):\n",
    "    xtrain,xtest,ytrain,ytest = train_test_split(x,y,test_size= 0.2,random_state= i)\n",
    "    lr= LinearRegression()\n",
    "    pipeline = make_pipeline(column_trans,scale,lr)\n",
    "    pipeline.fit(xtrain,ytrain)\n",
    "    ypred = pipeline.predict(xtest)\n",
    "    score.append(r2_score(ytest,ypred))\n"
   ]
  },
  {
   "cell_type": "code",
   "execution_count": 55,
   "metadata": {},
   "outputs": [
    {
     "data": {
      "text/plain": [
       "295"
      ]
     },
     "execution_count": 55,
     "metadata": {},
     "output_type": "execute_result"
    }
   ],
   "source": [
    "np.argmax(score)"
   ]
  },
  {
   "cell_type": "code",
   "execution_count": 56,
   "metadata": {},
   "outputs": [
    {
     "data": {
      "text/plain": [
       "0.9641643637766034"
      ]
     },
     "execution_count": 56,
     "metadata": {},
     "output_type": "execute_result"
    }
   ],
   "source": [
    "score[np.argmax(score)]"
   ]
  },
  {
   "cell_type": "code",
   "execution_count": 57,
   "metadata": {},
   "outputs": [
    {
     "name": "stdout",
     "output_type": "stream",
     "text": [
      "R2 score of train data: 0.9709189746652515\n",
      "R2 score of test data: 0.9641643637766034\n"
     ]
    }
   ],
   "source": [
    "xtrain,xtest,ytrain,ytest = train_test_split(x,y,test_size= 0.2,random_state= np.argmax(score))\n",
    "lr= LinearRegression()\n",
    "pipeline = make_pipeline(column_trans,scale,lr)\n",
    "pipeline.fit(xtrain,ytrain)\n",
    "ytrain_pred= pipeline.predict(xtrain)\n",
    "print('R2 score of train data:',r2_score(ytrain,ytrain_pred))\n",
    "ypred = pipeline.predict(xtest)\n",
    "print('R2 score of test data:',r2_score(ytest,ypred))"
   ]
  },
  {
   "cell_type": "code",
   "execution_count": 58,
   "metadata": {},
   "outputs": [
    {
     "data": {
      "text/plain": [
       "0.8948043529455745"
      ]
     },
     "execution_count": 58,
     "metadata": {},
     "output_type": "execute_result"
    }
   ],
   "source": [
    "validation= cross_val_score(pipeline,xtrain,ytrain,cv=5)\n",
    "np.mean(validation)"
   ]
  },
  {
   "cell_type": "code",
   "execution_count": 59,
   "metadata": {},
   "outputs": [
    {
     "data": {
      "text/plain": [
       "0.876429349660443"
      ]
     },
     "execution_count": 59,
     "metadata": {},
     "output_type": "execute_result"
    }
   ],
   "source": [
    "validation= cross_val_score(pipeline,xtest,ytest,cv=5)\n",
    "np.mean(validation)"
   ]
  },
  {
   "cell_type": "code",
   "execution_count": 60,
   "metadata": {},
   "outputs": [],
   "source": [
    "import pickle\n",
    "pickle.dump(pipeline,open('carpriceprediction.pkl','wb'))"
   ]
  },
  {
   "cell_type": "code",
   "execution_count": null,
   "metadata": {},
   "outputs": [],
   "source": []
  }
 ],
 "metadata": {
  "kernelspec": {
   "display_name": "Python 3.9.13 ('base')",
   "language": "python",
   "name": "python3"
  },
  "language_info": {
   "codemirror_mode": {
    "name": "ipython",
    "version": 3
   },
   "file_extension": ".py",
   "mimetype": "text/x-python",
   "name": "python",
   "nbconvert_exporter": "python",
   "pygments_lexer": "ipython3",
   "version": "3.9.13"
  },
  "orig_nbformat": 4,
  "vscode": {
   "interpreter": {
    "hash": "20a9e06a1eee47c4abbed4ec8225ad91d78d9800d202b71b6b0a6e47016c6abd"
   }
  }
 },
 "nbformat": 4,
 "nbformat_minor": 2
}
